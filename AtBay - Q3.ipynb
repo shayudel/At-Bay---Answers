{
 "cells": [
  {
   "cell_type": "code",
   "execution_count": 1,
   "id": "673067b7",
   "metadata": {},
   "outputs": [],
   "source": [
    "import socket\n",
    "import sys"
   ]
  },
  {
   "cell_type": "code",
   "execution_count": 2,
   "id": "47db57c4",
   "metadata": {},
   "outputs": [
    {
     "name": "stdout",
     "output_type": "stream",
     "text": [
      "enter subdomain: email.google.com\n"
     ]
    }
   ],
   "source": [
    "sub = input('enter subdomain: ')"
   ]
  },
  {
   "cell_type": "code",
   "execution_count": 3,
   "id": "b38d9eed",
   "metadata": {},
   "outputs": [
    {
     "name": "stdout",
     "output_type": "stream",
     "text": [
      "success\n"
     ]
    }
   ],
   "source": [
    "#finding the IP address of the subdomain\n",
    "try:\n",
    "    subdomain_ip = socket.gethostbyname(sub)\n",
    "    print('success')\n",
    "except socket.gaierror:\n",
    "    print('error')"
   ]
  },
  {
   "cell_type": "code",
   "execution_count": 4,
   "id": "348e91cf",
   "metadata": {},
   "outputs": [
    {
     "name": "stdout",
     "output_type": "stream",
     "text": [
      "172.217.21.14\n"
     ]
    }
   ],
   "source": [
    "print(subdomain_ip)"
   ]
  },
  {
   "cell_type": "code",
   "execution_count": 5,
   "id": "3294364f",
   "metadata": {},
   "outputs": [],
   "source": [
    "#defining the list, that later on will contain tuples of port and service\n",
    "list_port_service = []"
   ]
  },
  {
   "cell_type": "code",
   "execution_count": null,
   "id": "a1bcaaf7",
   "metadata": {},
   "outputs": [],
   "source": [
    "try:\n",
    "    for port in range (1,65535):\n",
    "        #checking progress\n",
    "        if port % 50 == 0 :\n",
    "            print(port)\n",
    "        #checking if the port is open, if so - append it with the service it provides\n",
    "        sock = socket.socket(socket.AF_INET,socket.SOCK_STREAM)\n",
    "        result = sock.connect_ex((subdomain_ip, port))\n",
    "        if result == 0:\n",
    "            port_service = socket.getservbyport(port, 'tcp')\n",
    "            print('port: {}, service: {}'.format(port, port_service))\n",
    "            list_port_service.append((port, port_service))\n",
    "    sock.close()\n",
    "#Handling possible errors\n",
    "except KeyboardInterrupt:\n",
    "    print (\"you pressed ctrl+c\")\n",
    "    sys.exit()\n",
    "except socket.gaierror:\n",
    "    print (\"subdomain could not be resolved\")\n",
    "    sys.exit()\n",
    "except socket.error:\n",
    "    print (\"couldn't connect to server\")\n",
    "    sys.exit()"
   ]
  },
  {
   "cell_type": "code",
   "execution_count": null,
   "id": "8a9d7a73",
   "metadata": {},
   "outputs": [],
   "source": [
    "print(list_port_service)"
   ]
  }
 ],
 "metadata": {
  "kernelspec": {
   "display_name": "Python 3 (ipykernel)",
   "language": "python",
   "name": "python3"
  },
  "language_info": {
   "codemirror_mode": {
    "name": "ipython",
    "version": 3
   },
   "file_extension": ".py",
   "mimetype": "text/x-python",
   "name": "python",
   "nbconvert_exporter": "python",
   "pygments_lexer": "ipython3",
   "version": "3.9.7"
  }
 },
 "nbformat": 4,
 "nbformat_minor": 5
}
