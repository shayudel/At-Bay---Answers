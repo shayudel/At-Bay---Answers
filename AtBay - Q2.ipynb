{
 "cells": [
  {
   "cell_type": "code",
   "execution_count": 1,
   "id": "d69606ab",
   "metadata": {},
   "outputs": [],
   "source": [
    "import pandas as pd"
   ]
  },
  {
   "cell_type": "code",
   "execution_count": 2,
   "id": "e6681bcc",
   "metadata": {},
   "outputs": [],
   "source": [
    "df = pd.read_csv('cves_dataset.csv')"
   ]
  },
  {
   "cell_type": "code",
   "execution_count": 3,
   "id": "df967899",
   "metadata": {},
   "outputs": [],
   "source": [
    "#making the severity distribution \n",
    "sev_df = df['cvss'].value_counts(bins=10)"
   ]
  },
  {
   "cell_type": "code",
   "execution_count": 4,
   "id": "04708af8",
   "metadata": {},
   "outputs": [],
   "source": [
    "#changing the series into a dataframe\n",
    "dist_df = sev_df.to_frame()"
   ]
  },
  {
   "cell_type": "code",
   "execution_count": 5,
   "id": "25e00cdc",
   "metadata": {},
   "outputs": [],
   "source": [
    "#changing (-0.011,1.0] distibution to[0.0,1.0] after checking there are no cvvs less than 0 \n",
    "df[df['cvss'] < 0]\n",
    "dist_df = dist_df.rename({pd.Interval(-0.011,1.0,closed = 'right') : pd.Interval(0.0,1.0,closed = 'both')})"
   ]
  },
  {
   "cell_type": "code",
   "execution_count": 6,
   "id": "b3ba6d8c",
   "metadata": {},
   "outputs": [],
   "source": [
    "#giving a name to the distribution column\n",
    "dist_df.reset_index(inplace=True)\n",
    "dist_df.rename(columns={'index':'distibution_range', 'cvss':'count_cvss'}, inplace=True)"
   ]
  },
  {
   "cell_type": "code",
   "execution_count": 7,
   "id": "282f7d7f",
   "metadata": {},
   "outputs": [],
   "source": [
    "#sorting the dataframe by the distribution column\n",
    "dist_df.set_index('distibution_range', inplace=True)\n",
    "dist_df.sort_values('distibution_range',inplace=True)"
   ]
  },
  {
   "cell_type": "code",
   "execution_count": 8,
   "id": "ea0336cd",
   "metadata": {},
   "outputs": [],
   "source": [
    "dist_df.to_csv('AtBay - Q2a.csv')"
   ]
  },
  {
   "cell_type": "code",
   "execution_count": 9,
   "id": "b39fa236",
   "metadata": {},
   "outputs": [
    {
     "data": {
      "image/png": "[encoded data removed]",
      "text/plain": [
       "<Figure size 432x288 with 1 Axes>"
      ]
     },
     "metadata": {
      "needs_background": "light"
     },
     "output_type": "display_data"
    }
   ],
   "source": [
    "#making the graph bar to desplay the distribution\n",
    "dist_graph = dist_df.plot(kind='bar')"
   ]
  },
  {
   "cell_type": "code",
   "execution_count": 10,
   "id": "f1d57bc7",
   "metadata": {},
   "outputs": [],
   "source": [
    "#downloading the graph\n",
    "fig = dist_graph.get_figure()\n",
    "fig.savefig('distribution_graph.pdf', bbox_inches='tight')"
   ]
  },
  {
   "cell_type": "code",
   "execution_count": 11,
   "id": "d9c955bc",
   "metadata": {},
   "outputs": [],
   "source": [
    "#returning the cvss that is rated as 'critical'\n",
    "df_critical = df[df['cvss'] >= 9.0]"
   ]
  },
  {
   "cell_type": "code",
   "execution_count": 12,
   "id": "42637cdf",
   "metadata": {},
   "outputs": [],
   "source": [
    "df_critical.to_csv('AtBay - Q2b.csv')"
   ]
  }
 ],
 "metadata": {
  "kernelspec": {
   "display_name": "Python 3 (ipykernel)",
   "language": "python",
   "name": "python3"
  },
  "language_info": {
   "codemirror_mode": {
    "name": "ipython",
    "version": 3
   },
   "file_extension": ".py",
   "mimetype": "text/x-python",
   "name": "python",
   "nbconvert_exporter": "python",
   "pygments_lexer": "ipython3",
   "version": "3.9.7"
  }
 },
 "nbformat": 4,
 "nbformat_minor": 5
}
